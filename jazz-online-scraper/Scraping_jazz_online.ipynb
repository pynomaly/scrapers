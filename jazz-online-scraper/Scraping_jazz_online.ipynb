{
 "cells": [
  {
   "cell_type": "markdown",
   "metadata": {},
   "source": [
    "# Scraping music from www.jazz-on-line.com"
   ]
  },
  {
   "cell_type": "markdown",
   "metadata": {},
   "source": [
    "I'm going to extract all the song urls from jazz-on-line web and a list of artists and pages."
   ]
  },
  {
   "cell_type": "code",
   "execution_count": 1,
   "metadata": {},
   "outputs": [
    {
     "name": "stdout",
     "output_type": "stream",
     "text": [
      "\n",
      "<!DOCTYPE HTML PUBLIC \"-//W3C//DTD HTML 4.01 Transitional//EN\" \"http://www.w3.org/TR/html4/loose.dtd\">\n",
      "<html>\n",
      "<head>\n",
      "<title>A Jazz Anthology MP3 Choose listen download MP3 tunes jazz artists</title>\n",
      "<meta http-equiv=\"Content-Type\" content=\"text/html; charset=UTF-8\">\n",
      "<meta http-equiv=\"Content-Language\" content=\"en-us\">\n",
      "<meta name=\"description\" content=\"jazz 78RPM records format MP3\">\n",
      "<meta name=\"author\" content=\"Michel\">\n",
      "<meta name=\"keywords\" content=\"A 78 RPM classic jazz on line online music b\n"
     ]
    }
   ],
   "source": [
    "from requests import get\n",
    "headers = {\"Accept-Language\": \"en-US, en;q=0.5\"}\n",
    "url = \"http://www.jazz-on-line.com/\"\n",
    "response = get(url, headers=headers)\n",
    "print(response.text[:500])"
   ]
  },
  {
   "cell_type": "code",
   "execution_count": 2,
   "metadata": {},
   "outputs": [],
   "source": [
    "from bs4 import BeautifulSoup\n",
    "html_soup = BeautifulSoup(response.text, 'html.parser')"
   ]
  },
  {
   "cell_type": "markdown",
   "metadata": {},
   "source": [
    "After looking for the right container in the html code (very old style), we choose 'td width=30% to extract the urls inside."
   ]
  },
  {
   "cell_type": "code",
   "execution_count": 3,
   "metadata": {},
   "outputs": [],
   "source": [
    "artist_container = html_soup.find_all('td', attrs = {'width':'30%'})"
   ]
  },
  {
   "cell_type": "code",
   "execution_count": 4,
   "metadata": {},
   "outputs": [
    {
     "data": {
      "text/plain": [
       "bs4.element.ResultSet"
      ]
     },
     "execution_count": 4,
     "metadata": {},
     "output_type": "execute_result"
    }
   ],
   "source": [
    "type(artist_container)"
   ]
  },
  {
   "cell_type": "code",
   "execution_count": 5,
   "metadata": {},
   "outputs": [
    {
     "name": "stdout",
     "output_type": "stream",
     "text": [
      "[<a href=\"http://www.jazz-on-line.com/artists/Ida_Cox.htm\"><b>Ida Cox</b></a>, <a href=\"http://www.jazz-on-line.com/artists/King_Oliver.htm\"><b>King Oliver</b></a>, <a href=\"http://www.jazz-on-line.com/artists/Jelly_Roll_Morton.htm\"><b>Jelly Roll Morton</b></a>, <a href=\"http://www.jazz-on-line.com/artists/Leadbelly.htm\"><b>Leadbelly</b></a>, <a href=\"http://www.jazz-on-line.com/artists/Kid_Ory.htm\"><b>Kid Ory</b></a>, <a href=\"http://www.jazz-on-line.com/artists/Bunk_Johnson.htm\"><b>Bunk Johnson</b></a>, <a href=\"http://www.jazz-on-line.com/artists/Lonnie_Johnson.htm\"><b>Lonnie Johnson</b></a>, <a href=\"http://www.jazz-on-line.com/artists/Paul_Whiteman.htm\"><b>Paul Whiteman</b></a>, <a href=\"http://www.jazz-on-line.com/artists/Johnny_Dodds.htm\"><b>Johnny Dodds</b></a>, <a href=\"http://www.jazz-on-line.com/artists/Lemon_Jefferson.htm\"><b>Blind Lemon Jefferson</b></a>, <a href=\"http://www.jazz-on-line.com/artists/Big_Bill_Broonzy.htm\"><b>Big Bill Broonzy</b></a>, <a href=\"http://www.jazz-on-line.com/artists/Bertha_Chippie_Hill.htm\"><b>Bertha Chippie Hill</b></a>, <a href=\"http://www.jazz-on-line.com/artists/Jimmy_Yancey.htm\"><b>Jimmy Yancey</b></a>, <a href=\"http://www.jazz-on-line.com/artists/Bessie_Smith.htm\"><b>Bessie Smith</b></a>, <a href=\"http://www.jazz-on-line.com/artists/Jimmie_Noone.htm\"><b>Jimmie Noone</b></a>, <a href=\"http://www.jazz-on-line.com/artists/Fletcher_Henderson.htm\"><b>Fletcher Henderson</b></a>, <a href=\"http://www.jazz-on-line.com/artists/Duke_Ellington.htm\"><b>Duke Ellington</b></a>, <a href=\"http://www.jazz-on-line.com/artists/Don_Redman.htm\"><b>Don Redman</b></a>, <a href=\"http://www.jazz-on-line.com/artists/George_Lewis.htm\"><b>George Lewis</b></a>, <a href=\"http://www.jazz-on-line.com/artists/Louis_Armstrong.htm\"><b>Louis Armstrong</b></a>, <a href=\"http://www.jazz-on-line.com/artists/Chick_Webb.htm\"><b>Chick Webb</b></a>, <a href=\"http://www.jazz-on-line.com/artists/Jimmie_Lunceford.htm\"><b>Jimmie Lunceford</b></a>, <a href=\"http://www.jazz-on-line.com/artists/Bix_Beiderbecke.htm\"><b>Bix Beiderbecke</b></a>, <a href=\"http://www.jazz-on-line.com/artists/Tommy_Dorsey.htm\"><b>Tommy Dorsey</b></a>, <a href=\"http://www.jazz-on-line.com/artists/Fats_Waller.htm\"><b>Fats Waller</b></a>, <a href=\"http://www.jazz-on-line.com/artists/Glenn_Miller.htm\"><b>Glenn Miller</b></a>, <a href=\"http://www.jazz-on-line.com/artists/Jimmy_Dorsey.htm\"><b>Jimmy Dorsey</b></a>, <a href=\"http://www.jazz-on-line.com/artists/Pete_Johnson.htm\"><b>Pete Johnson</b></a>, <a href=\"http://www.jazz-on-line.com/artists/Count_Basie.htm\"><b>Count Basie</b></a>, <a href=\"http://www.jazz-on-line.com/artists/Meade_Lux_Lewis.htm\"><b>Meade Lux Lewis</b></a>, <a href=\"http://www.jazz-on-line.com/artists/Albert_Ammons.htm\"><b>Albert Ammons</b></a>]\n"
     ]
    },
    {
     "data": {
      "text/plain": [
       "bs4.element.ResultSet"
      ]
     },
     "execution_count": 5,
     "metadata": {},
     "output_type": "execute_result"
    }
   ],
   "source": [
    "artist_container[0].find_all('a')\n",
    "print(artist_container[0].find_all('a'))\n",
    "type(artist_container[0].find_all('a'))"
   ]
  },
  {
   "cell_type": "code",
   "execution_count": 6,
   "metadata": {},
   "outputs": [
    {
     "data": {
      "text/plain": [
       "[<a href=\"http://www.jazz-on-line.com/artists/Mildred_Bailey.htm\"><b>Mildred Bailey</b></a>,\n",
       " <a href=\"http://www.jazz-on-line.com/artists/Cab_Calloway.htm\"><b>Cab Calloway</b></a>,\n",
       " <a href=\"http://www.jazz-on-line.com/artists/Benny_Goodman.htm\"><b>Benny Goodman</b></a>,\n",
       " <a href=\"http://www.jazz-on-line.com/artists/Django_Reinhardt.htm\"><b>Django Reinhardt</b></a>,\n",
       " <a href=\"http://www.jazz-on-line.com/artists/Artie_Shaw.htm\"><b>Artie Shaw</b></a>,\n",
       " <a href=\"http://www.jazz-on-line.com/artists/Sonny_Terry_Brownie_McGhee.htm\"><b>Sonny Terry &amp; Brownie McGhee</b></a>,\n",
       " <a href=\"http://www.jazz-on-line.com/artists/Mahalia_Jackson.htm\"><b>Mahalia Jackson</b></a>,\n",
       " <a href=\"http://www.jazz-on-line.com/artists/Woody_Herman.htm\"><b>Woody Herman</b></a>,\n",
       " <a href=\"http://www.jazz-on-line.com/artists/Charlie_Barnet.htm\"><b>Charlie Barnet</b></a>,\n",
       " <a href=\"http://www.jazz-on-line.com/artists/Lionel_Hampton.htm\"><b>Lionel Hampton</b></a>,\n",
       " <a href=\"http://www.jazz-on-line.com/artists/Kenny_Clarke.htm\"><b>Kenny Clarke</b></a>,\n",
       " <a href=\"http://www.jazz-on-line.com/artists/Billie_Holiday.htm\"><b>Billie Holiday</b></a>,\n",
       " <a href=\"http://www.jazz-on-line.com/artists/Muddy_Waters.htm\"><b>Muddy Waters</b></a>,\n",
       " <a href=\"http://www.jazz-on-line.com/artists/Harry_James.htm\"><b>Harry James</b></a>,\n",
       " <a href=\"http://www.jazz-on-line.com/artists/Thelonious_Monk.htm\"><b>Thelonious Monk</b></a>,\n",
       " <a href=\"http://www.jazz-on-line.com/artists/Dizzy_Gillespie.htm\"><b>Dizzy Gillespie</b></a>,\n",
       " <a href=\"http://www.jazz-on-line.com/artists/Ella_Fitzgerald.htm\"><b>Ella Fitzgerald</b></a>,\n",
       " <a href=\"http://www.jazz-on-line.com/artists/Art_Blakey.htm\"><b>Art Blakey</b></a>,\n",
       " <a href=\"http://www.jazz-on-line.com/artists/Charlie_Christian.htm\"><b>Charlie Christian</b></a>,\n",
       " <a href=\"http://www.jazz-on-line.com/artists/Lennie_Tristano.htm\"><b>Lennie Tristano</b></a>,\n",
       " <a href=\"http://www.jazz-on-line.com/artists/Dave_Brubeck.htm\"><b>Dave Brubeck</b></a>,\n",
       " <a href=\"http://www.jazz-on-line.com/artists/New_Orleans_Rhythm_Kings.htm\"><b>New Orleans Rhythm Kings</b></a>,\n",
       " <a href=\"http://www.jazz-on-line.com/artists/Charlie_Parker.htm\"><b>Charlie Parker</b></a>,\n",
       " <a href=\"http://www.jazz-on-line.com/artists/Oscar_Pettiford.htm\"><b>Oscar Pettiford</b></a>,\n",
       " <a href=\"http://www.jazz-on-line.com/artists/Fats_Navarro.htm\"><b>Fats Navarro</b></a>,\n",
       " <a href=\"http://www.jazz-on-line.com/artists/Jay_Jay_Johnson.htm\"><b>J J Johnson</b></a>,\n",
       " <a href=\"http://www.jazz-on-line.com/artists/Bud_Powell.htm\"><b>Bud Powell</b></a>,\n",
       " <a href=\"http://www.jazz-on-line.com/artists/Oscar_Peterson.htm\"><b>Oscar Peterson</b></a>,\n",
       " <a href=\"http://www.jazz-on-line.com/artists/Max_Roach.htm\"><b>Max Roach</b></a>,\n",
       " <a href=\"http://www.jazz-on-line.com/artists/Miles_Davis.htm\"><b>Miles Davis</b></a>,\n",
       " <a href=\"http://www.jazz-on-line.com/artists/Casa_Loma_Orchestra.htm\"><b>Casa Loma Orchestra</b></a>,\n",
       " <a href=\"http://www.jazz-on-line.com/artists/Stan_Getz.htm\"><b>Stan Getz</b></a>]"
      ]
     },
     "execution_count": 6,
     "metadata": {},
     "output_type": "execute_result"
    }
   ],
   "source": [
    "artist_container[2].find_all('a')"
   ]
  },
  {
   "cell_type": "code",
   "execution_count": 7,
   "metadata": {},
   "outputs": [],
   "source": [
    "artists_first = artist_container[0].find_all('a')"
   ]
  },
  {
   "cell_type": "code",
   "execution_count": 8,
   "metadata": {},
   "outputs": [],
   "source": [
    "artists_second = artist_container[2].find_all('a')"
   ]
  },
  {
   "cell_type": "markdown",
   "metadata": {},
   "source": [
    "We extract artist name and urls."
   ]
  },
  {
   "cell_type": "code",
   "execution_count": 9,
   "metadata": {},
   "outputs": [
    {
     "name": "stdout",
     "output_type": "stream",
     "text": [
      "['http://www.jazz-on-line.com/artists/Ida_Cox.htm', 'http://www.jazz-on-line.com/artists/King_Oliver.htm', 'http://www.jazz-on-line.com/artists/Jelly_Roll_Morton.htm', 'http://www.jazz-on-line.com/artists/Leadbelly.htm', 'http://www.jazz-on-line.com/artists/Kid_Ory.htm']\n",
      "['Ida Cox', 'King Oliver', 'Jelly Roll Morton', 'Leadbelly', 'Kid Ory']\n"
     ]
    }
   ],
   "source": [
    "urls = []\n",
    "names = []\n",
    "for a in artists_first:\n",
    "    url = a.get('href')\n",
    "    name = a.find('b').text\n",
    "    urls.append(url)\n",
    "    names.append(name)\n",
    "for a in artists_second:\n",
    "    url = a.get('href')\n",
    "    name = a.find('b').text\n",
    "    urls.append(url)\n",
    "    names.append(name)\n",
    "print(urls[:5])\n",
    "print(names[:5])"
   ]
  },
  {
   "cell_type": "markdown",
   "metadata": {},
   "source": [
    "I try with the first artist in the list (Ida Cox) to extract the song urls. "
   ]
  },
  {
   "cell_type": "code",
   "execution_count": 10,
   "metadata": {},
   "outputs": [
    {
     "data": {
      "text/plain": [
       "[<a href=\"http://www.jazz-on-line.com/program/Ida_Cox.m3u\" name=\"Ida_Cox\"><b>Ida Cox</b></a>,\n",
       " <a href=\"http://www.jazz-on-line.com/a/mp3a/PARP2243.mp3\">Long Distance Blues</a>,\n",
       " <a href=\"http://www.jazz-on-line.com/a/mp4c/OKE29277-1.mp3\">Last Mile Blues</a>,\n",
       " <a href=\"http://www.jazz-on-line.com/a/mp3a/CBS25510-1.mp3\">Death Letter Blues</a>]"
      ]
     },
     "execution_count": 10,
     "metadata": {},
     "output_type": "execute_result"
    }
   ],
   "source": [
    "url = \"http://www.jazz-on-line.com/artists/Ida_Cox.htm\"\n",
    "response = get(url, headers=headers)\n",
    "html_soup = BeautifulSoup(response.text, 'html.parser')\n",
    "page_content = html_soup.find_all('td', attrs = {'width':'85%'})\n",
    "page_content[2].find_all('a')"
   ]
  },
  {
   "cell_type": "code",
   "execution_count": 11,
   "metadata": {},
   "outputs": [],
   "source": [
    "ida_cox = page_content[2].find_all('a')"
   ]
  },
  {
   "cell_type": "code",
   "execution_count": 12,
   "metadata": {},
   "outputs": [
    {
     "name": "stdout",
     "output_type": "stream",
     "text": [
      "['http://www.jazz-on-line.com/program/Ida_Cox.m3u', 'http://www.jazz-on-line.com/a/mp3a/PARP2243.mp3', 'http://www.jazz-on-line.com/a/mp4c/OKE29277-1.mp3', 'http://www.jazz-on-line.com/a/mp3a/CBS25510-1.mp3']\n"
     ]
    }
   ],
   "source": [
    "ida_cox_downloads = [] \n",
    "\n",
    "for a in ida_cox:\n",
    "    url = a.get('href')\n",
    "    ida_cox_downloads.append(url)\n",
    "\n",
    "print(ida_cox_downloads)"
   ]
  },
  {
   "cell_type": "markdown",
   "metadata": {},
   "source": [
    "Now I make the same for each of the url in our list of artist urls."
   ]
  },
  {
   "cell_type": "code",
   "execution_count": 13,
   "metadata": {},
   "outputs": [],
   "source": [
    "download_urls = []\n",
    "\n",
    "for url in urls:\n",
    "    response = get(url, headers=headers)\n",
    "    if response.status_code != 200:\n",
    "        continue\n",
    "    html_soup = BeautifulSoup(response.text, 'html.parser')\n",
    "    page_content = html_soup.find_all('td', attrs = {'width':'85%'})\n",
    "    results = page_content[2].find_all('a')\n",
    "    for a in results:\n",
    "        down = a.get('href')\n",
    "        download_urls.append(down)"
   ]
  },
  {
   "cell_type": "markdown",
   "metadata": {},
   "source": [
    "Artist-url to a dictionary"
   ]
  },
  {
   "cell_type": "code",
   "execution_count": 14,
   "metadata": {},
   "outputs": [],
   "source": [
    "name_url = {}\n",
    "for name in names:\n",
    "    name_url[name] = url"
   ]
  },
  {
   "cell_type": "markdown",
   "metadata": {},
   "source": [
    "## Convert into pandas dataframe"
   ]
  },
  {
   "cell_type": "markdown",
   "metadata": {},
   "source": [
    "### Dataframe with song urls"
   ]
  },
  {
   "cell_type": "code",
   "execution_count": 15,
   "metadata": {},
   "outputs": [
    {
     "name": "stdout",
     "output_type": "stream",
     "text": [
      "                                                    url\n",
      "0       http://www.jazz-on-line.com/program/Ida_Cox.m3u\n",
      "1       http://www.jazz-on-line.com/a/mp3a/PARP2243.mp3\n",
      "2     http://www.jazz-on-line.com/a/mp4c/OKE29277-1.mp3\n",
      "3     http://www.jazz-on-line.com/a/mp3a/CBS25510-1.mp3\n",
      "4     http://www.jazz-on-line.com/program/King_Olive...\n",
      "...                                                 ...\n",
      "8380   http://www.jazz-on-line.com/a/mp5c/MER89059H.mp3\n",
      "8381   http://www.jazz-on-line.com/a/mp5c/MER89059E.mp3\n",
      "8382     http://www.jazz-on-line.com/a/mp4c/SAV3324.mp3\n",
      "8383   http://www.jazz-on-line.com/a/mp5c/SAVS3323B.mp3\n",
      "8384  http://www.jazz-on-line.com/a/mp5c/MER89042TA.mp3\n",
      "\n",
      "[8385 rows x 1 columns]\n"
     ]
    }
   ],
   "source": [
    "import pandas as pd\n",
    "\n",
    "song_urls = pd.DataFrame({\n",
    "    'url' : download_urls})\n",
    "\n",
    "print(song_urls)"
   ]
  },
  {
   "cell_type": "code",
   "execution_count": 16,
   "metadata": {},
   "outputs": [],
   "source": [
    "song_urls.to_csv('songs.csv')"
   ]
  },
  {
   "cell_type": "markdown",
   "metadata": {},
   "source": [
    "### Dataframe with artist-page"
   ]
  },
  {
   "cell_type": "code",
   "execution_count": 17,
   "metadata": {},
   "outputs": [
    {
     "name": "stdout",
     "output_type": "stream",
     "text": [
      "                 artist                                                url\n",
      "0               Ida Cox    http://www.jazz-on-line.com/artists/Ida_Cox.htm\n",
      "1           King Oliver  http://www.jazz-on-line.com/artists/King_Olive...\n",
      "2     Jelly Roll Morton  http://www.jazz-on-line.com/artists/Jelly_Roll...\n",
      "3             Leadbelly  http://www.jazz-on-line.com/artists/Leadbelly.htm\n",
      "4               Kid Ory    http://www.jazz-on-line.com/artists/Kid_Ory.htm\n",
      "..                  ...                                                ...\n",
      "58       Oscar Peterson  http://www.jazz-on-line.com/artists/Oscar_Pete...\n",
      "59            Max Roach  http://www.jazz-on-line.com/artists/Max_Roach.htm\n",
      "60          Miles Davis  http://www.jazz-on-line.com/artists/Miles_Davi...\n",
      "61  Casa Loma Orchestra  http://www.jazz-on-line.com/artists/Casa_Loma_...\n",
      "62            Stan Getz  http://www.jazz-on-line.com/artists/Stan_Getz.htm\n",
      "\n",
      "[63 rows x 2 columns]\n"
     ]
    }
   ],
   "source": [
    "artist_urls = pd.DataFrame({\n",
    "    'artist': names,\n",
    "    'url': urls\n",
    "})\n",
    "print(artist_urls)"
   ]
  }
 ],
 "metadata": {
  "kernelspec": {
   "display_name": "Python 3",
   "language": "python",
   "name": "python3"
  },
  "language_info": {
   "codemirror_mode": {
    "name": "ipython",
    "version": 3
   },
   "file_extension": ".py",
   "mimetype": "text/x-python",
   "name": "python",
   "nbconvert_exporter": "python",
   "pygments_lexer": "ipython3",
   "version": "3.7.4"
  }
 },
 "nbformat": 4,
 "nbformat_minor": 2
}
