{
 "cells": [
  {
   "cell_type": "markdown",
   "metadata": {},
   "source": [
    "# Scraping of Twitter account to download daily video"
   ]
  },
  {
   "cell_type": "code",
   "execution_count": 77,
   "metadata": {},
   "outputs": [],
   "source": [
    "# To avoid collission between twint and jupyter notebook event loops. \n",
    "# Source: https://markhneedham.com/blog/2019/05/10/jupyter-runtimeerror-this-event-loop-is-already-running/\n",
    "\n",
    "import nest_asyncio\n",
    "nest_asyncio.apply()"
   ]
  },
  {
   "cell_type": "code",
   "execution_count": 78,
   "metadata": {},
   "outputs": [
    {
     "name": "stdout",
     "output_type": "stream",
     "text": [
      "[!] No more data! Scraping will stop now.\n",
      "found 0 deleted tweets in this search.\n"
     ]
    }
   ],
   "source": [
    "import twint\n",
    "\n",
    "# Configure\n",
    "tweets = []\n",
    "c = twint.Config()\n",
    "c.Username = \"angelmartin_nc\"\n",
    "c.Search = \"informativo matinal\"\n",
    "c.Hide_output = True\n",
    "c.Store_object = True\n",
    "c.Store_object_tweets_list = tweets\n",
    "\n",
    "# Run\n",
    "twint.run.Search(c)"
   ]
  },
  {
   "cell_type": "code",
   "execution_count": 79,
   "metadata": {},
   "outputs": [
    {
     "data": {
      "text/plain": [
       "91"
      ]
     },
     "execution_count": 79,
     "metadata": {},
     "output_type": "execute_result"
    }
   ],
   "source": [
    "len(tweets)"
   ]
  },
  {
   "cell_type": "code",
   "execution_count": 80,
   "metadata": {},
   "outputs": [
    {
     "data": {
      "text/plain": [
       "83"
      ]
     },
     "execution_count": 80,
     "metadata": {},
     "output_type": "execute_result"
    }
   ],
   "source": [
    "# extract link from every tweet\n",
    "\n",
    "import re\n",
    "\n",
    "capture_pattern = r'(https\\:\\/\\/.*)'\n",
    "links = []\n",
    "\n",
    "# Pass if tweet has no link\n",
    "for tweet in tweets:\n",
    "    try:\n",
    "        link = re.search(capture_pattern, tweet.tweet)\n",
    "        links.append(link.group())\n",
    "    except:\n",
    "        pass\n",
    "len(links)"
   ]
  },
  {
   "cell_type": "code",
   "execution_count": 85,
   "metadata": {},
   "outputs": [
    {
     "data": {
      "text/plain": [
       "77"
      ]
     },
     "execution_count": 85,
     "metadata": {},
     "output_type": "execute_result"
    }
   ],
   "source": [
    "# delete duplicated links\n",
    "video_links = list(dict.fromkeys(links))\n",
    "\n",
    "len(video_links)"
   ]
  },
  {
   "cell_type": "code",
   "execution_count": null,
   "metadata": {},
   "outputs": [],
   "source": [
    "# Download using youtube-dl flags\n",
    "\n",
    "import sh\n",
    "download_dir = '/tmp/angel_martin/'\n",
    "archive = download_dir + 'download_archive.txt'\n",
    "\n",
    "for link in video_links:\n",
    "    sh.youtube_dl(\"-o\", download_dir + \"%(upload_date)s.%(ext)s\", \"--download-archive\", archive, link)        "
   ]
  },
  {
   "cell_type": "code",
   "execution_count": null,
   "metadata": {},
   "outputs": [],
   "source": [
    "# Download using manual steps\n",
    "\n",
    "import sh\n",
    "download_dir = '/tmp/angel_martin/'\n",
    "archive = download_dir + 'download_archive.txt'\n",
    "\n",
    "sh.touch(archive)\n",
    "\n",
    "with open(archive, 'r+') as f:\n",
    "    downloaded_links = f.read().splitlines()\n",
    "    \n",
    "for link in video_links:\n",
    "    if link not in downloaded_links:\n",
    "        sh.youtube_dl(\"-o\", download_dir + \"Informativo_matinal_%(upload_date)s.%(ext)s\", link)\n",
    "        downloaded_links.append(link)\n",
    "        \n",
    "with open(archive, 'w+') as f:\n",
    "    f.write('\\n'.join(downloaded_links))"
   ]
  }
 ],
 "metadata": {
  "kernelspec": {
   "display_name": "Python 3",
   "language": "python",
   "name": "python3"
  },
  "language_info": {
   "codemirror_mode": {
    "name": "ipython",
    "version": 3
   },
   "file_extension": ".py",
   "mimetype": "text/x-python",
   "name": "python",
   "nbconvert_exporter": "python",
   "pygments_lexer": "ipython3",
   "version": "3.7.4"
  },
  "toc": {
   "base_numbering": 1,
   "nav_menu": {},
   "number_sections": false,
   "sideBar": true,
   "skip_h1_title": false,
   "title_cell": "Table of Contents",
   "title_sidebar": "Contents",
   "toc_cell": false,
   "toc_position": {
    "height": "calc(100% - 180px)",
    "left": "10px",
    "top": "150px",
    "width": "165px"
   },
   "toc_section_display": true,
   "toc_window_display": false
  }
 },
 "nbformat": 4,
 "nbformat_minor": 2
}
